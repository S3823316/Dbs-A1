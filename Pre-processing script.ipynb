{
 "cells": [
  {
   "cell_type": "code",
   "execution_count": 16,
   "metadata": {},
   "outputs": [],
   "source": [
    "import pandas as pd\n",
    "import numpy as np "
   ]
  },
  {
   "cell_type": "code",
   "execution_count": 17,
   "metadata": {},
   "outputs": [],
   "source": [
    "artist_f = \"artist.csv\""
   ]
  },
  {
   "cell_type": "code",
   "execution_count": null,
   "metadata": {},
   "outputs": [],
   "source": [
    "artists = pd.read_csv(artist_f, dtype='unicode')\n",
    "artists.head()"
   ]
  },
  {
   "cell_type": "code",
   "execution_count": null,
   "metadata": {},
   "outputs": [],
   "source": [
    "artists.shape"
   ]
  },
  {
   "cell_type": "code",
   "execution_count": null,
   "metadata": {},
   "outputs": [],
   "source": [
    "artists.columns"
   ]
  },
  {
   "cell_type": "code",
   "execution_count": null,
   "metadata": {},
   "outputs": [],
   "source": [
    "new = artists[['rdf-schema#label', 'birthDate', 'birthPlace_label', 'deathDate', 'field_label', 'genre_label', 'instrument_label', 'nationality_label', 'thumbnail', 'wikiPageID', 'description']]"
   ]
  },
  {
   "cell_type": "code",
   "execution_count": null,
   "metadata": {},
   "outputs": [],
   "source": [
    "new.head()"
   ]
  },
  {
   "cell_type": "code",
   "execution_count": null,
   "metadata": {},
   "outputs": [],
   "source": [
    "new.shape"
   ]
  },
  {
   "cell_type": "code",
   "execution_count": null,
   "metadata": {},
   "outputs": [],
   "source": [
    "artist = new.drop([0,1,2]).reset_index(drop=True)"
   ]
  },
  {
   "cell_type": "code",
   "execution_count": null,
   "metadata": {},
   "outputs": [],
   "source": [
    "artist.to_csv('Book1.csv', index=False)\n",
    "artist"
   ]
  },
  {
   "cell_type": "code",
   "execution_count": null,
   "metadata": {},
   "outputs": [],
   "source": [
    "artist = artist.rename(columns={'rdf-schema#label':'personName'})\n",
    "artist"
   ]
  },
  {
   "cell_type": "code",
   "execution_count": null,
   "metadata": {},
   "outputs": [],
   "source": [
    "artist['birthPlace_label'] = artist['birthPlace_label'].str.replace(\"[{}]\", \"\")\n",
    "artist['birthPlace_label'] = artist['birthPlace_label'].str.replace(\"[|]\", \",\")\n",
    "artist"
   ]
  },
  {
   "cell_type": "code",
   "execution_count": null,
   "metadata": {},
   "outputs": [],
   "source": [
    "artist['field_label'] = artist['field_label'].str.replace(\"[{}]\", \"\")\n",
    "artist['field_label'] = artist['field_label'].str.replace(\"[|]\", \",\")\n",
    "artist['genre_label'] = artist['genre_label'].str.replace(\"[{}]\", \"\")\n",
    "artist['genre_label'] = artist['genre_label'].str.replace(\"[|]\", \",\")\n",
    "artist['instrument_label'] = artist['instrument_label'].str.replace(\"[{}]\", \"\")\n",
    "artist['instrument_label'] = artist['instrument_label'].str.replace(\"[|]\", \",\")\n",
    "artist"
   ]
  },
  {
   "cell_type": "code",
   "execution_count": null,
   "metadata": {},
   "outputs": [],
   "source": [
    "artist.to_csv('new_artists_copy.csv', index=False)"
   ]
  },
  {
   "cell_type": "code",
   "execution_count": null,
   "metadata": {},
   "outputs": [],
   "source": [
    "artist.to_csv('indx_artists_new.csv', header=False, index=True)"
   ]
  },
  {
   "cell_type": "code",
   "execution_count": null,
   "metadata": {},
   "outputs": [],
   "source": []
  }
 ],
 "metadata": {
  "kernelspec": {
   "display_name": "Python 3",
   "language": "python",
   "name": "python3"
  },
  "language_info": {
   "codemirror_mode": {
    "name": "ipython",
    "version": 3
   },
   "file_extension": ".py",
   "mimetype": "text/x-python",
   "name": "python",
   "nbconvert_exporter": "python",
   "pygments_lexer": "ipython3",
   "version": "3.8.5"
  }
 },
 "nbformat": 4,
 "nbformat_minor": 4
}
